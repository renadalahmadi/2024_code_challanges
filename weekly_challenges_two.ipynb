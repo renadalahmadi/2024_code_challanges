{
  "nbformat": 4,
  "nbformat_minor": 0,
  "metadata": {
    "colab": {
      "provenance": [],
      "authorship_tag": "ABX9TyO0LsdhQL+pkyvSfjsUHOJt",
      "include_colab_link": true
    },
    "kernelspec": {
      "name": "python3",
      "display_name": "Python 3"
    },
    "language_info": {
      "name": "python"
    }
  },
  "cells": [
    {
      "cell_type": "markdown",
      "metadata": {
        "id": "view-in-github",
        "colab_type": "text"
      },
      "source": [
        "<a href=\"https://colab.research.google.com/github/renadalahmadi/2024_code_challanges/blob/main/weekly_challenges_two.ipynb\" target=\"_parent\"><img src=\"https://colab.research.google.com/assets/colab-badge.svg\" alt=\"Open In Colab\"/></a>"
      ]
    },
    {
      "cell_type": "markdown",
      "source": [
        "# **Practice 1**:\n",
        "\n",
        "Write a Program to Change Decimal Number to Binary?\n"
      ],
      "metadata": {
        "id": "T1q0AN7yss3L"
      }
    },
    {
      "cell_type": "code",
      "source": [
        "def DecimalToBinary(decnum):\n",
        "  '''\n",
        "  goal: Converting a decimal number to binary.\n",
        "\n",
        "  steps: 1. check if the decimal number is = 0 if not\n",
        "         2. save the reminder\n",
        "         3. divid by 2 and repeat\n",
        "\n",
        "  result:\n",
        "    The binary representation of the decimal number.\n",
        "\n",
        "  '''\n",
        "  Binum = \"\"\n",
        "\n",
        "  while decnum != 0:\n",
        "    reminder = decnum % 2\n",
        "    Binum = str(reminder) + Binum\n",
        "    decnum //= 2\n",
        "\n",
        "\n",
        "  return Binum\n",
        "\n",
        "DecimalToBinary(13)"
      ],
      "metadata": {
        "colab": {
          "base_uri": "https://localhost:8080/",
          "height": 35
        },
        "id": "FeSEZtKwvDh-",
        "outputId": "5f289ac4-bed1-4a66-a879-9e9ba9835393"
      },
      "execution_count": null,
      "outputs": [
        {
          "output_type": "execute_result",
          "data": {
            "text/plain": [
              "'1101'"
            ],
            "application/vnd.google.colaboratory.intrinsic+json": {
              "type": "string"
            }
          },
          "metadata": {},
          "execution_count": 1
        }
      ]
    },
    {
      "cell_type": "markdown",
      "source": [
        "# **Practice 2**:\n",
        "\n",
        "\n",
        "Write a Program to Change Binary Number to Decimal?\n"
      ],
      "metadata": {
        "id": "QNA1uT-l65q6"
      }
    },
    {
      "cell_type": "code",
      "source": [
        "# user input\n",
        "\n",
        "def BinaryToDecimal(binum):\n",
        "  '''\n",
        "  goal: Converting a binary number to decimal.\n",
        "\n",
        "  steps: 1. revrese the binary string to aligned it with index\n",
        "         2. loop over the binary str and multiple the binary digit by 2 ** index to get the number\n",
        "         3. add the\n",
        "\n",
        "  result:\n",
        "    The binary representation of the decimal number.\n",
        "\n",
        "  '''\n",
        "  decnum = 0\n",
        "  reversed_string = \"\"\n",
        "  for i in range(len(binum) - 1, -1, -1):\n",
        "    reversed_string += binum[i]\n",
        "\n",
        "  for index, item in enumerate(reversed_string):\n",
        "    number  = int(item) * (2**index)\n",
        "     #print(\"index: \"+ str(index) + \" number: \" + str(number))\n",
        "    decnum = decnum + number\n",
        "\n",
        "  return (\"result is \" , decnum)\n",
        "\n",
        "BinaryToDecimal('1101')"
      ],
      "metadata": {
        "colab": {
          "base_uri": "https://localhost:8080/"
        },
        "id": "uvE9Qc5b0lCE",
        "outputId": "075a80df-2ad1-45b2-acb6-3503c5f756d7"
      },
      "execution_count": null,
      "outputs": [
        {
          "output_type": "execute_result",
          "data": {
            "text/plain": [
              "('result is ', 13)"
            ]
          },
          "metadata": {},
          "execution_count": 27
        }
      ]
    }
  ]
}