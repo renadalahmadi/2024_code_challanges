{
  "nbformat": 4,
  "nbformat_minor": 0,
  "metadata": {
    "colab": {
      "provenance": [],
      "authorship_tag": "ABX9TyPZ4QGSAUTrSeWRWQyTt9NK",
      "include_colab_link": true
    },
    "kernelspec": {
      "name": "python3",
      "display_name": "Python 3"
    },
    "language_info": {
      "name": "python"
    }
  },
  "cells": [
    {
      "cell_type": "markdown",
      "metadata": {
        "id": "view-in-github",
        "colab_type": "text"
      },
      "source": [
        "<a href=\"https://colab.research.google.com/github/renadalahmadi/2024_code_challanges/blob/main/weekly_challenges_one.ipynb\" target=\"_parent\"><img src=\"https://colab.research.google.com/assets/colab-badge.svg\" alt=\"Open In Colab\"/></a>"
      ]
    },
    {
      "cell_type": "markdown",
      "source": [
        "# **challenge 1**:\n",
        "\n",
        "Consider a string, S, that is a series of characters, each followed by its frequency as an integer. The string is not compressed correctly, so there may be multiple occurrences of the same character. A properly compressed string will consist of one instance of each character in alphabetical order followed by the total count of that character within the string."
      ],
      "metadata": {
        "id": "T1q0AN7yss3L"
      }
    },
    {
      "cell_type": "code",
      "source": [
        "def compressedString(text):\n",
        "  # first seperate the chars from digits into lists each char's repetition number\n",
        "  # will have the same index in lists\n",
        "  chars = []\n",
        "  digits = []\n",
        "  # double checking input for both digits and char, to append in the correct list\n",
        "  for i in text:\n",
        "    if i.isalpha():\n",
        "        chars.append(i)\n",
        "    elif i.isdigit():\n",
        "        digits.append(i)\n",
        "    # initializing the final string that will store the compressed string\n",
        "        final_str = \"\"\n",
        "    # checking no duplicates and printing repeated chars\n",
        "    for char, count in zip(chars, digits):\n",
        "      if char not in final_str:\n",
        "        final_str += char * int(count)\n",
        "    # sorting in alphabet order\n",
        "  sortedstring = \"\".join(sorted(final_str))\n",
        "  print(sortedstring)\n",
        "\n",
        "# user input\n",
        "text = input(\"Enter your text: \")\n",
        "compressedString(text)"
      ],
      "metadata": {
        "colab": {
          "base_uri": "https://localhost:8080/"
        },
        "id": "i06jAPOPyTuP",
        "outputId": "d3f65e7a-fa18-4d6b-9fd9-4c4f78f6f0f7"
      },
      "execution_count": 1,
      "outputs": [
        {
          "output_type": "stream",
          "name": "stdout",
          "text": [
            "Enter your text: h6i8k8\n",
            "hhhhhhiiiiiiiikkkkkkkk\n"
          ]
        }
      ]
    },
    {
      "cell_type": "markdown",
      "source": [
        "# **challenage 2**:\n",
        "\n",
        "reverse the funcation\n"
      ],
      "metadata": {
        "id": "fIPjFXnQs_hH"
      }
    },
    {
      "cell_type": "code",
      "source": [
        "def deCompressedString(text):\n",
        "  # first create chars list and counter list for char repetition\n",
        "  chars = []\n",
        "  digitCounter = {}\n",
        "\n",
        "  counter = 0\n",
        "    # looping over text to find the count of each alphabet char and storing in dic\n",
        "  for i in text:\n",
        "    if not i in digitCounter:\n",
        "      digitCounter[i] = 1\n",
        "    else:\n",
        "       digitCounter[i] += 1\n",
        "   # sort\n",
        "  sorted_dict = {k: digitCounter[k] for k in sorted(digitCounter.keys())}\n",
        "    # initializing the final string that will store the decompressed string\n",
        "  final_str = ''\n",
        "\n",
        "  for i in sorted_dict:\n",
        "    final_str += i + str(sorted_dict[i])\n",
        "  print(final_str)\n",
        "\n",
        "\n",
        "# user input\n",
        "text = input(\"Enter your text: \")\n",
        "deCompressedString(text)"
      ],
      "metadata": {
        "colab": {
          "base_uri": "https://localhost:8080/"
        },
        "id": "yG2wE-UeyCRE",
        "outputId": "86abb25f-5cd6-4755-ffaa-ad2729f97e94"
      },
      "execution_count": 3,
      "outputs": [
        {
          "output_type": "stream",
          "name": "stdout",
          "text": [
            "Enter your text: jjjhhh\n",
            "h3j3\n"
          ]
        }
      ]
    }
  ]
}